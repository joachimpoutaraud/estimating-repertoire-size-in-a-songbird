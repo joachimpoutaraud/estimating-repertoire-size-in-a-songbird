{
 "cells": [
  {
   "cell_type": "markdown",
   "metadata": {},
   "source": [
    "# 4. Extracting time and frequency domain features\n",
    "\n",
    "According to [Theodoridis & Koutroumbas (2008)](https://books.google.no/books?hl=en&lr=&id=QgD-3Tcj8DkC&oi=fnd&pg=PP1&dq=Pattern+Recognition++Konstantinos+Koutroumbas&ots=lWXw2EdAeb&sig=Rm5XoBrPWpLD55cH3vggjfADEeA&redir_esc=y#v=onepage&q=Pattern%20Recognition%20%20Konstantinos%20Koutroumbas&f=false), the objective in pattern recognition or classification is to classify objects (patterns) into a number of categories (classes). In this study, syllables extracted from songs and calls of birds are used as patterns. The classification is done based on the time and frequency domain features extracted. These are calculated from the syllables in order to be classified or recognized. Features constitute a feature vector, which is a representation of the syllable."
   ]
  },
  {
   "cell_type": "code",
   "execution_count": 1,
   "metadata": {},
   "outputs": [],
   "source": [
    "import numpy as np\n",
    "import pandas as pd\n",
    "import matplotlib.pyplot as plt\n",
    "from tqdm import tqdm\n",
    "\n",
    "import scipy\n",
    "from scipy import fftpack\n",
    "from scipy.signal import hilbert, lfilter, find_peaks\n",
    "\n",
    "import IPython.display as ipd\n",
    "import pywt\n",
    "import librosa\n",
    "import librosa.display\n",
    "import warnings\n",
    "warnings.filterwarnings('ignore')"
   ]
  },
  {
   "cell_type": "markdown",
   "metadata": {},
   "source": [
    "Load the updated `dataset.csv` file"
   ]
  },
  {
   "cell_type": "code",
   "execution_count": 2,
   "metadata": {},
   "outputs": [
    {
     "name": "stdout",
     "output_type": "stream",
     "text": [
      "Found 4155 syllables in csv\n"
     ]
    },
    {
     "data": {
      "text/html": [
       "<div>\n",
       "<style scoped>\n",
       "    .dataframe tbody tr th:only-of-type {\n",
       "        vertical-align: middle;\n",
       "    }\n",
       "\n",
       "    .dataframe tbody tr th {\n",
       "        vertical-align: top;\n",
       "    }\n",
       "\n",
       "    .dataframe thead th {\n",
       "        text-align: right;\n",
       "    }\n",
       "</style>\n",
       "<table border=\"1\" class=\"dataframe\">\n",
       "  <thead>\n",
       "    <tr style=\"text-align: right;\">\n",
       "      <th></th>\n",
       "      <th>id</th>\n",
       "      <th>gen</th>\n",
       "      <th>en</th>\n",
       "      <th>cnt</th>\n",
       "      <th>type</th>\n",
       "      <th>file-name</th>\n",
       "      <th>start</th>\n",
       "      <th>end</th>\n",
       "      <th>duration</th>\n",
       "    </tr>\n",
       "  </thead>\n",
       "  <tbody>\n",
       "    <tr>\n",
       "      <th>0</th>\n",
       "      <td>720204</td>\n",
       "      <td>Chloris</td>\n",
       "      <td>European Greenfinch</td>\n",
       "      <td>Spain</td>\n",
       "      <td>call, sex uncertain</td>\n",
       "      <td>data/recordings/XC720204-20220429_0810 Verdum ...</td>\n",
       "      <td>143540</td>\n",
       "      <td>155639</td>\n",
       "      <td>0.549</td>\n",
       "    </tr>\n",
       "    <tr>\n",
       "      <th>1</th>\n",
       "      <td>720204</td>\n",
       "      <td>Chloris</td>\n",
       "      <td>European Greenfinch</td>\n",
       "      <td>Spain</td>\n",
       "      <td>call, sex uncertain</td>\n",
       "      <td>data/recordings/XC720204-20220429_0810 Verdum ...</td>\n",
       "      <td>178500</td>\n",
       "      <td>191089</td>\n",
       "      <td>0.571</td>\n",
       "    </tr>\n",
       "    <tr>\n",
       "      <th>2</th>\n",
       "      <td>720204</td>\n",
       "      <td>Chloris</td>\n",
       "      <td>European Greenfinch</td>\n",
       "      <td>Spain</td>\n",
       "      <td>call, sex uncertain</td>\n",
       "      <td>data/recordings/XC720204-20220429_0810 Verdum ...</td>\n",
       "      <td>231428</td>\n",
       "      <td>244244</td>\n",
       "      <td>0.581</td>\n",
       "    </tr>\n",
       "    <tr>\n",
       "      <th>3</th>\n",
       "      <td>720204</td>\n",
       "      <td>Chloris</td>\n",
       "      <td>European Greenfinch</td>\n",
       "      <td>Spain</td>\n",
       "      <td>call, sex uncertain</td>\n",
       "      <td>data/recordings/XC720204-20220429_0810 Verdum ...</td>\n",
       "      <td>303134</td>\n",
       "      <td>315519</td>\n",
       "      <td>0.562</td>\n",
       "    </tr>\n",
       "    <tr>\n",
       "      <th>4</th>\n",
       "      <td>720204</td>\n",
       "      <td>Chloris</td>\n",
       "      <td>European Greenfinch</td>\n",
       "      <td>Spain</td>\n",
       "      <td>call, sex uncertain</td>\n",
       "      <td>data/recordings/XC720204-20220429_0810 Verdum ...</td>\n",
       "      <td>336175</td>\n",
       "      <td>347461</td>\n",
       "      <td>0.512</td>\n",
       "    </tr>\n",
       "  </tbody>\n",
       "</table>\n",
       "</div>"
      ],
      "text/plain": [
       "       id      gen                   en    cnt                 type  \\\n",
       "0  720204  Chloris  European Greenfinch  Spain  call, sex uncertain   \n",
       "1  720204  Chloris  European Greenfinch  Spain  call, sex uncertain   \n",
       "2  720204  Chloris  European Greenfinch  Spain  call, sex uncertain   \n",
       "3  720204  Chloris  European Greenfinch  Spain  call, sex uncertain   \n",
       "4  720204  Chloris  European Greenfinch  Spain  call, sex uncertain   \n",
       "\n",
       "                                           file-name   start     end  duration  \n",
       "0  data/recordings/XC720204-20220429_0810 Verdum ...  143540  155639     0.549  \n",
       "1  data/recordings/XC720204-20220429_0810 Verdum ...  178500  191089     0.571  \n",
       "2  data/recordings/XC720204-20220429_0810 Verdum ...  231428  244244     0.581  \n",
       "3  data/recordings/XC720204-20220429_0810 Verdum ...  303134  315519     0.562  \n",
       "4  data/recordings/XC720204-20220429_0810 Verdum ...  336175  347461     0.512  "
      ]
     },
     "execution_count": 2,
     "metadata": {},
     "output_type": "execute_result"
    }
   ],
   "source": [
    "df = pd.read_csv('dataset.csv')\n",
    "print(f'Found {len(df.index)} syllables in csv')\n",
    "df.head()"
   ]
  },
  {
   "cell_type": "markdown",
   "metadata": {},
   "source": [
    "Choose two segmented syllables (one intermittent and one sustained) from the csv file and load them with librosa"
   ]
  },
  {
   "cell_type": "code",
   "execution_count": 3,
   "metadata": {},
   "outputs": [],
   "source": [
    "x, sr = librosa.load(df['file-name'][10], sr=22050)\n",
    "intermittent = x[df.start[10]:df.end[10]]\n",
    "y, sr = librosa.load(df['file-name'][20], sr=sr)\n",
    "sustained = y[df.start[20]:df.end[20]]"
   ]
  },
  {
   "cell_type": "markdown",
   "metadata": {},
   "source": [
    "## Preprocessing\n",
    "\n",
    "**Filtering with Discrete Wavelet Transform (DWT)**\n",
    "\n",
    "Filtering of signals using wavelets is based on the idea that as the DWT decomposes the signal into details and approximation parts, at some scale the details contain mostly the insignificant noise and can be removed or zeroed out using thresholding without affecting the signal. This idea is discussed in more detail in the introductory paper of [Vidakovic B. et al., 1991](https://gtwavelet.bme.gatech.edu/wp/kidsA.pdf). To implement this DWT filtering scheme there are two basic filter design parameters: the wavelet type and a threshold. Typically the shape and form of the signal to be filtered is qualitatively matched to the general shape of the wavelet. In this study, we use Daubechies wavelet before extracting time and frequency domain features."
   ]
  },
  {
   "cell_type": "code",
   "execution_count": 4,
   "metadata": {},
   "outputs": [
    {
     "name": "stdout",
     "output_type": "stream",
     "text": [
      "Original bird syllable\n"
     ]
    },
    {
     "data": {
      "text/html": [
       "\n",
       "                <audio  controls=\"controls\" >\n",
       "                    <source src=\"data:audio/wav;base64,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\" type=\"audio/wav\" />\n",
       "                    Your browser does not support the audio element.\n",
       "                </audio>\n",
       "              "
      ],
      "text/plain": [
       "<IPython.lib.display.Audio object>"
      ]
     },
     "metadata": {},
     "output_type": "display_data"
    },
    {
     "name": "stdout",
     "output_type": "stream",
     "text": [
      "Denoised bird syllable\n"
     ]
    },
    {
     "data": {
      "text/html": [
       "\n",
       "                <audio  controls=\"controls\" >\n",
       "                    <source src=\"data:audio/wav;base64,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\" type=\"audio/wav\" />\n",
       "                    Your browser does not support the audio element.\n",
       "                </audio>\n",
       "              "
      ],
      "text/plain": [
       "<IPython.lib.display.Audio object>"
      ]
     },
     "metadata": {},
     "output_type": "display_data"
    }
   ],
   "source": [
    "def filtering(signal, wavelet='db6'):\n",
    "    # Calculate decomposition and reconstruction filter values using Daubechies wavelet\n",
    "    dec_lo, dec_hi, rec_lo, rec_hi = pywt.Wavelet(wavelet).filter_bank  \n",
    "    # Apply high-pass decomposition filter along one-dimension\n",
    "    y = lfilter(dec_hi, 1, signal) \n",
    "    return y\n",
    "\n",
    "interfiltered = filtering(intermittent)\n",
    "sustfiltered = filtering(sustained)\n",
    "\n",
    "print('Original bird syllable')\n",
    "ipd.display(ipd.Audio(intermittent, rate=sr))\n",
    "print('Denoised bird syllable')\n",
    "ipd.display(ipd.Audio(interfiltered, rate=sr))"
   ]
  },
  {
   "cell_type": "markdown",
   "metadata": {},
   "source": [
    "### Mel Frequency Cepstral Coefficients (MFCCs)\n",
    "\n",
    "According to [Arti V. Bang and Priti P. Rege (2017)](https://dl.acm.org/doi/10.5555/3192212.3192214), MFCCs are the widely used features in speech, speaker, and audio and music classification. Various implementation of MFCC are proposed in literature. We have used here MFCC FB-24 configuration proposed by Cambridge Hidden Markov Models (HMM) Toolkit known as HTK because of its wide use. The name HTK MFCC FB-24 denotes the number of filters recommended by Young for bandwidth of 8 kHz ([Ganchev et al., 2005](http://citeseerx.ist.psu.edu/viewdoc/download?doi=10.1.1.75.8303&rep=rep1&type=pdf)). Owing to its widespread use, MFCC filter parameters are considered as the basis for the evaluation of other feature sets. For comparison, in this work, we have decided to have frequency range of [0 11025] Hz as we are dealing with birds songs which are higher than speech, 24 band filters and 13 cepstral coefficients for all feature extraction methods."
   ]
  },
  {
   "cell_type": "code",
   "execution_count": 5,
   "metadata": {},
   "outputs": [
    {
     "data": {
      "image/png": "[encoded data removed]",
      "text/plain": [
       "<Figure size 432x288 with 1 Axes>"
      ]
     },
     "metadata": {},
     "output_type": "display_data"
    },
    {
     "data": {
      "text/plain": [
       "array([  3.55685415,  50.66604824, -28.58913946, -13.93140046,\n",
       "        23.26184366,  -4.86193366,  -7.64896351,   4.03582378,\n",
       "         1.15785633,   0.95948295,  -4.01684167])"
      ]
     },
     "execution_count": 5,
     "metadata": {},
     "output_type": "execute_result"
    }
   ],
   "source": [
    "plt.title('Mel Frequency Cepstral Coefficients (MFCCs)')\n",
    "mfcc = librosa.feature.mfcc(sustfiltered, n_mfcc=13, n_mels=24, htk=True, n_fft=2048, hop_length=512)\n",
    "mfcc = mfcc[1:]\n",
    "librosa.display.specshow(mfcc)\n",
    "plt.show()\n",
    "\n",
    "# Remove higher DCT coefficients because they represent fast changes in the filterbank energies and actually degrade ASR performance\n",
    "mfcc = mfcc[1:] \n",
    "mfcc.mean(axis=1)"
   ]
  },
  {
   "cell_type": "markdown",
   "metadata": {},
   "source": [
    "### Descriptive Features (DFs)\n",
    "\n",
    "Spectral characteristics of different birds are varied and signal model is not known. Since bird sounds are musical in nature, time and frequency-based features, called as Descriptive Features, used in audio and music retrieval can be used for bird species recognition. These features are extensively used and described by Scheirer and Slaney (1997), Tzanetakis and Cook (1999), Park et al. (2005) and Kim et al. (2006) for music and audio retrieval, and Somervuo et al. (2006) and Fagurland (2007) for recognition of bird species. \n",
    "\n",
    "In this the study, the following features are used. \n",
    "\n",
    "- Energy (EN)\n",
    "- Zero Crossing Rate (ZCR)\n",
    "- Duration of the Syllable (DUR) \n",
    "- Spectral Centroid (SC)\n",
    "- Spectral Bandwidth (SB)\n",
    "- Spectral Flux (SF)\n",
    "- Spectral Roll Off (SRF)\n",
    "- Spectral Flatness Measure (SFM)\n",
    "\n",
    ">**Note:** other features are also presented in this notebook but have been discarded as they weren't helpful for the clustering task."
   ]
  },
  {
   "cell_type": "markdown",
   "metadata": {},
   "source": [
    "**Moments**\n",
    "\n",
    "[Statistical moments](https://en.wikipedia.org/wiki/Moment_(mathematics)) plays a crucial role while we specify our probability distribution to work with since, with the help of moments, we can describe the properties of statistical distribution. In mathematics, the moments of a function are quantitative measures related to the shape of the function's graph. If the function is a probability distribution, then the first moment is the expected value, the second central moment is the variance, the third standardized moment is the skewness, and the fourth standardized moment is the kurtosis. The mathematical concept is closely related to the concept of moment in physics. Here, we will focus on the two first moments: mean and variance."
   ]
  },
  {
   "cell_type": "code",
   "execution_count": 6,
   "metadata": {},
   "outputs": [],
   "source": [
    "def moments(X, axis=0):\n",
    "    return np.nanmean(X, axis), np.nanvar(X, axis)"
   ]
  },
  {
   "cell_type": "markdown",
   "metadata": {},
   "source": [
    "#### Time Domain Features (TDF)\n",
    "\n",
    "**Energy (EN)**\n",
    "\n",
    "Compute moments of the energy envelope of the sound that reflects the aptitude of the birdsong."
   ]
  },
  {
   "cell_type": "code",
   "execution_count": 7,
   "metadata": {},
   "outputs": [
    {
     "data": {
      "text/plain": [
       "(0.009310785118377669, 7.808525387462641e-05)"
      ]
     },
     "execution_count": 7,
     "metadata": {},
     "output_type": "execute_result"
    }
   ],
   "source": [
    "# Compute sound envelope using the Hilbert transform \n",
    "energy = np.abs(hilbert(interfiltered))\n",
    "moments(energy)"
   ]
  },
  {
   "cell_type": "markdown",
   "metadata": {},
   "source": [
    "**Energy Entropy (EE)**\n",
    "\n",
    "Compute the entropy of the amplitude envelope of the audio signal. It is worth noting that sustained bird syllables with an almost flat envelope will show a very high temporal entropy, therefore we have computed the entropy on the distribution obtained with a histogram."
   ]
  },
  {
   "cell_type": "code",
   "execution_count": 8,
   "metadata": {},
   "outputs": [
    {
     "data": {
      "text/plain": [
       "0.05353714948550231"
      ]
     },
     "execution_count": 8,
     "metadata": {},
     "output_type": "execute_result"
    }
   ],
   "source": [
    "def EE(signal, bins=30, axis=0):\n",
    "    # Compute sound envelope using the Hilbert transform \n",
    "    env = abs(hilbert(signal)) \n",
    "    # Normalize envelope\n",
    "    env = env / env.sum(axis=axis, keepdims=True) \n",
    "    # Compute the entropy on the distribution obtained with a histogram to get low entropy on sustained syllables\n",
    "    counts, bins = np.histogram(env,bins=bins)\n",
    "    # Compute Shannon entropy\n",
    "    te = -(bins * np.log(bins)).sum(axis=axis)\n",
    "    return te\n",
    "\n",
    "EE(interfiltered)"
   ]
  },
  {
   "cell_type": "markdown",
   "metadata": {},
   "source": [
    "**Zero Crossing Rate (ZCR)** \n",
    "\n",
    "Compute moments of the Zero Crossing Rate which provides information about the noisiness of the audio signals"
   ]
  },
  {
   "cell_type": "code",
   "execution_count": 9,
   "metadata": {},
   "outputs": [
    {
     "data": {
      "text/plain": [
       "(0.35096153846153844, 0.002674181785809218)"
      ]
     },
     "execution_count": 9,
     "metadata": {},
     "output_type": "execute_result"
    }
   ],
   "source": [
    "zcr = librosa.feature.zero_crossing_rate(interfiltered, frame_length=512, hop_length=256)[0]\n",
    "moments(zcr)"
   ]
  },
  {
   "cell_type": "markdown",
   "metadata": {},
   "source": [
    "**Duration of the Syllable (DUR)**"
   ]
  },
  {
   "cell_type": "code",
   "execution_count": 10,
   "metadata": {},
   "outputs": [
    {
     "name": "stdout",
     "output_type": "stream",
     "text": [
      "Found 4133 syllables in csv\n"
     ]
    },
    {
     "data": {
      "text/plain": [
       "0    0.549\n",
       "1    0.571\n",
       "2    0.581\n",
       "3    0.562\n",
       "4    0.512\n",
       "Name: duration, dtype: float64"
      ]
     },
     "execution_count": 10,
     "metadata": {},
     "output_type": "execute_result"
    }
   ],
   "source": [
    "# Keep syllables under 3 seconds \n",
    "df = df.loc[df.duration <= 3]\n",
    "# Reset the dataframe index\n",
    "df = df.reset_index(drop=True)\n",
    "print(f'Found {len(df.index)} syllables in csv')\n",
    "\n",
    "df['duration'].head()"
   ]
  },
  {
   "cell_type": "markdown",
   "metadata": {},
   "source": [
    "**Peak Picking Strategy (PPS)**\n",
    "\n",
    "Design a Peak Picking Strategy (PPS) to dectect the equivalent steady state of energy with the onsets which go along with a sudden increase in the energy released by a bird syllable. Based on this assumption, a straightforward way to detect these onsets is to compute the [Root Mean Square (RMS)](https://en.wikipedia.org/wiki/Root_mean_square) energy value for each filtered frame of the audio samples and to isolate energy peaks with a smoothing filter. "
   ]
  },
  {
   "cell_type": "code",
   "execution_count": 11,
   "metadata": {},
   "outputs": [
    {
     "data": {
      "image/png": "[encoded data removed]",
      "text/plain": [
       "<Figure size 1152x288 with 2 Axes>"
      ]
     },
     "metadata": {
      "needs_background": "light"
     },
     "output_type": "display_data"
    }
   ],
   "source": [
    "# Compute RMS with librosa\n",
    "interrms = librosa.feature.rms(y=interfiltered, frame_length=128, hop_length=64)[0]\n",
    "sustrms = librosa.feature.rms(y=sustfiltered, frame_length=128, hop_length=64)[0]\n",
    "\n",
    "# Normalize rms and find peaks\n",
    "norm_interrms = interrms / max(interrms)\n",
    "interpeaks, _ = find_peaks(norm_interrms, prominence=0.4)\n",
    "norm_sustrms = sustrms / max(sustrms)\n",
    "sustpeaks, _ = find_peaks(norm_sustrms, prominence=0.4)\n",
    "\n",
    "fig, ax = plt.subplots(1, 2, figsize=(16,4))\n",
    "ax[0].plot(norm_interrms)\n",
    "ax[0].plot(interpeaks, norm_interrms[interpeaks], \"x\", label=f'Number of peaks:{len(interpeaks)}')\n",
    "ax[0].set_title('Intermittent syllable')\n",
    "ax[0].legend()\n",
    "ax[1].plot(norm_sustrms)\n",
    "ax[1].plot(sustpeaks, norm_sustrms[sustpeaks], \"x\", label=f'Number of peaks:{len(sustpeaks)}')\n",
    "ax[1].set_title('Sustained syllable')\n",
    "ax[1].legend();"
   ]
  },
  {
   "cell_type": "markdown",
   "metadata": {},
   "source": [
    "Finally, we can design the PPS function and compute some additional information regarding the peaks:\n",
    "- Number of peaks\n",
    "- Minimum peak interval\n",
    "- Maximum peak interval\n",
    "- First peak interval\n",
    "- Last peak interval\n",
    "- Minimum peak height\n",
    "- Peak median rate"
   ]
  },
  {
   "cell_type": "code",
   "execution_count": 12,
   "metadata": {},
   "outputs": [
    {
     "name": "stdout",
     "output_type": "stream",
     "text": [
      "Intermittent syllable                   Sustained syllable                     \n",
      "Number of peaks: 10 \t\t\tNumber of peaks: 1\n",
      "Interval minimum: 0.09287981859410432 \tInterval minimum: 0\n",
      "Interval maximum: 0.1277097505668934 \tInterval maximum: 0\n",
      "Interval first: 0.09287981859410432 \tInterval first: 0\n",
      "Interval last: 0.12190476190476196 \tInterval last: 0\n",
      "Height minimum: 0.5859966150318997 \tHeight minimum: 0.9909693542851844\n",
      "Median peaks rate: 9.066611842105264 \tMedian peaks rate: 0\n"
     ]
    }
   ],
   "source": [
    "def PPS(signal, prominence=0.4, frame_length=128, sr=22050):\n",
    "    # Calculate root mean square energy\n",
    "    rms = librosa.feature.rms(y=signal, frame_length=128, hop_length=64)[0]\n",
    "    # Normalize rms \n",
    "    norm_rms = rms / max(rms)\n",
    "    peaks, peaks_info = find_peaks(norm_rms, prominence=prominence)   \n",
    "    # Number of peaks\n",
    "    n_peaks = len(peaks)\n",
    "    \n",
    "    if n_peaks == 0:\n",
    "        interval_min = np.nan\n",
    "        interval_max = np.nan\n",
    "        interval_first = np.nan\n",
    "        interval_last = np.nan\n",
    "        height_min = np.nan\n",
    "        medianpeaksrate = np.nan        \n",
    "    elif n_peaks == 1:\n",
    "        interval_min = 0\n",
    "        interval_max = 0\n",
    "        interval_first = 0\n",
    "        interval_last = 0\n",
    "        height_min = np.min(peaks_info['prominences'])\n",
    "        medianpeaksrate = 0   \n",
    "    else:\n",
    "        # Convert peaks to seconds\n",
    "        peaks = peaks / sr*frame_length\n",
    "        # Peaks intervals\n",
    "        interval_min = np.min(np.diff(peaks))\n",
    "        interval_max = np.max(np.diff(peaks))\n",
    "        interval_first = peaks[1] - peaks[0]\n",
    "        interval_last = peaks[-1] - peaks[-2]\n",
    "        # Peaks heights\n",
    "        height_min = np.min(peaks_info['prominences'])\n",
    "        # Peaks rate\n",
    "        medianpeaksrate = 1/np.median(np.diff(peaks))\n",
    "        \n",
    "    return n_peaks, interval_min, interval_max, interval_first, interval_last, height_min, medianpeaksrate\n",
    "\n",
    "intern_peaks, interinterval_min, interinterval_max, interinterval_first, interinterval_last, interheight_min, intermedianpeaksrate = PPS(interfiltered)\n",
    "sustn_peaks, sustinterval_min, sustinterval_max, sustinterval_first, sustinterval_last, sustheight_min, sustmedianpeaksrate = PPS(sustfiltered)\n",
    "\n",
    "print('{:<39} {:<39}'.format('Intermittent syllable','Sustained syllable'))\n",
    "print(f'Number of peaks: {intern_peaks}', f'\\t\\t\\tNumber of peaks: {sustn_peaks}')\n",
    "print(f'Interval minimum: {interinterval_min}', f'\\tInterval minimum: {sustinterval_min}')\n",
    "print(f'Interval maximum: {interinterval_max}', f'\\tInterval maximum: {sustinterval_max}')\n",
    "print(f'Interval first: {interinterval_first}', f'\\tInterval first: {sustinterval_first}')\n",
    "print(f'Interval last: {interinterval_last}', f'\\tInterval last: {sustinterval_last}')\n",
    "print(f'Height minimum: {interheight_min}', f'\\tHeight minimum: {sustheight_min}')\n",
    "print(f'Median peaks rate: {intermedianpeaksrate}', f'\\tMedian peaks rate: {sustmedianpeaksrate}')"
   ]
  },
  {
   "cell_type": "markdown",
   "metadata": {},
   "source": [
    "On the other hand, the FDFs that provide the spectral features of the birdsong\n",
    "#### Frequency Domain Features (FDF)"
   ]
  },
  {
   "cell_type": "markdown",
   "metadata": {},
   "source": [
    "**Spectral Centroid (SC)**\n",
    "\n",
    "Compute moments of the Spectral Centroid"
   ]
  },
  {
   "cell_type": "code",
   "execution_count": 13,
   "metadata": {},
   "outputs": [
    {
     "data": {
      "text/plain": [
       "(4528.385187269308, 173453.83408836642)"
      ]
     },
     "execution_count": 13,
     "metadata": {},
     "output_type": "execute_result"
    }
   ],
   "source": [
    "SC = librosa.feature.spectral_centroid(y=interfiltered, sr=sr, n_fft=2048, hop_length=512)[0]\n",
    "moments(SC)"
   ]
  },
  {
   "cell_type": "markdown",
   "metadata": {},
   "source": [
    "**Spectral Bandwidth (SB)**\n",
    "\n",
    "Compute moments of the Spectral Bandwidth"
   ]
  },
  {
   "cell_type": "code",
   "execution_count": 14,
   "metadata": {},
   "outputs": [
    {
     "data": {
      "text/plain": [
       "(1613.2599902637173, 21804.013121754626)"
      ]
     },
     "execution_count": 14,
     "metadata": {},
     "output_type": "execute_result"
    }
   ],
   "source": [
    "SB = librosa.feature.spectral_bandwidth(y=interfiltered, sr=sr,  n_fft=2048, hop_length=512)[0]\n",
    "moments(SB)"
   ]
  },
  {
   "cell_type": "markdown",
   "metadata": {},
   "source": [
    "**Spectral Flux (SF)**\n",
    "\n",
    "Compute moments of the Spectral Flux"
   ]
  },
  {
   "cell_type": "code",
   "execution_count": 15,
   "metadata": {},
   "outputs": [
    {
     "data": {
      "text/plain": [
       "(0.681716639070456, 0.5157996129638154)"
      ]
     },
     "execution_count": 15,
     "metadata": {},
     "output_type": "execute_result"
    }
   ],
   "source": [
    "SF = librosa.onset.onset_strength(y=interfiltered, sr=sr, n_fft=2048, hop_length=512)\n",
    "moments(SF)"
   ]
  },
  {
   "cell_type": "markdown",
   "metadata": {},
   "source": [
    "**Spectral Roll-Off (SR)**\n",
    "\n",
    "Compute moments of the Spectral Roll-Off"
   ]
  },
  {
   "cell_type": "code",
   "execution_count": 16,
   "metadata": {},
   "outputs": [
    {
     "data": {
      "text/plain": [
       "(5511.671799879808, 723784.1445630824)"
      ]
     },
     "execution_count": 16,
     "metadata": {},
     "output_type": "execute_result"
    }
   ],
   "source": [
    "SR = librosa.feature.spectral_rolloff(y=interfiltered, sr=sr, n_fft=2048, hop_length=512)[0]\n",
    "moments(SR)"
   ]
  },
  {
   "cell_type": "markdown",
   "metadata": {},
   "source": [
    "**Spectral Flatness Measure (SFM)**\n",
    "\n",
    "Compute moments of the Spectral Flatness (Wiener entropy) to estimate the uniformity of signal energy distribution in the frequency domain"
   ]
  },
  {
   "cell_type": "code",
   "execution_count": 17,
   "metadata": {},
   "outputs": [
    {
     "data": {
      "text/plain": [
       "(0.0013618929071681348, 9.611026987359474e-06)"
      ]
     },
     "execution_count": 17,
     "metadata": {},
     "output_type": "execute_result"
    }
   ],
   "source": [
    "SFM = librosa.feature.spectral_flatness(y=interfiltered, n_fft=2048, hop_length=512)[0]\n",
    "moments(SFM)"
   ]
  },
  {
   "cell_type": "markdown",
   "metadata": {},
   "source": [
    "**Spectral Entropy (SE)**\n",
    "\n",
    "Compute the entropy of the power spectrum of the audio signal."
   ]
  },
  {
   "cell_type": "code",
   "execution_count": 18,
   "metadata": {},
   "outputs": [
    {
     "data": {
      "text/plain": [
       "5.780883151114413"
      ]
     },
     "execution_count": 18,
     "metadata": {},
     "output_type": "execute_result"
    }
   ],
   "source": [
    "def SE(signal, axis=0):\n",
    "    # Compute absolute Fourier Transform\n",
    "    S = np.abs(np.fft.rfft(signal))\n",
    "    # Compute power spectrum\n",
    "    S_pow = np.square(S)\n",
    "    # Normalize power spectrum\n",
    "    S_pow = S_pow / S_pow.sum(axis=axis, keepdims=True)\n",
    "    # Compute Shannon entropy\n",
    "    se = -(S_pow * np.log(S_pow)).sum(axis=axis)\n",
    "    return se\n",
    "\n",
    "SE(interfiltered)"
   ]
  },
  {
   "cell_type": "markdown",
   "metadata": {},
   "source": [
    "#### Harmonic Features (HF)\n",
    "\n",
    "It is found that bird vocalization is harmonic ([Jason R. Heller & John D. Pinezich, 2008](https://pubmed.ncbi.nlm.nih.gov/19045673/)). Therefore, the fundamental frequency (f0) and harmonic to noise ratio (HNR) can also be added to the proposed feature vector.\n",
    "\n",
    "**Fundamental Frequency (f0)**"
   ]
  },
  {
   "cell_type": "code",
   "execution_count": 19,
   "metadata": {},
   "outputs": [
    {
     "data": {
      "text/plain": [
       "(2977.311120809581, 2272107.9714175933)"
      ]
     },
     "execution_count": 19,
     "metadata": {},
     "output_type": "execute_result"
    }
   ],
   "source": [
    "def f0(signal, sr, threshold=0, fmin=50, fmax=8000, frame_length=512, hop_length=256):\n",
    "    # Original code from https://github.com/joachimpoutaraud/low-level-descriptors\n",
    "    \n",
    "    padding = [(0, 0) for _ in range(signal.ndim)]\n",
    "    padding[-1] = (int(frame_length // 2), int(frame_length // 2))\n",
    "    signal = np.pad(signal, padding, mode=\"edge\")\n",
    "\n",
    "    frames = librosa.util.frame(signal, frame_length=frame_length, hop_length=hop_length)\n",
    "    \n",
    "    f0 = []\n",
    "    for i in frames:\n",
    "        i = i - i.mean()    \n",
    "        # Return maximum absolute value of the array\n",
    "        amax = np.amax(np.abs(i)) \n",
    "        # Normalize the frame array between -1 and 1\n",
    "        if amax > 0:\n",
    "            i /= amax\n",
    "\n",
    "            # Calculate autocorrelation function (acf) using numpy correlate\n",
    "            acf = np.correlate(i, i, mode='full')\n",
    "            acf = acf[acf.shape[0]//2:] # keep only the positive part\n",
    "\n",
    "            # Find the location of the first autocorrelation's peak indice\n",
    "            diff = np.diff(acf) # calculate autocorrelation's discrete difference\n",
    "            peak_indices = np.where(diff > 0)[0] # return the indices of the peaks (positive discrete difference values)\n",
    "\n",
    "            if peak_indices.shape[0] > 0:\n",
    "                first_peak_indice = peak_indices[0] # return the indice of the first autocorrelation peak \n",
    "\n",
    "                # Find the location of the maximum autocorrelation's peak indice\n",
    "                T0 = np.argmax(acf[first_peak_indice:]) + first_peak_indice # return the indice of the fundamental period\n",
    "                max_peak = acf[T0] / acf[acf.argmax()] # normalize the maximum autocorrelation peak value\n",
    "                f = sr / T0 # get the fundamental frequency\n",
    "\n",
    "                if max_peak > threshold and f >= fmin and f <= fmax:\n",
    "                    f0.append(f)\n",
    "                else:\n",
    "                    pass\n",
    "            else:\n",
    "                pass\n",
    "        else:\n",
    "            pass\n",
    "    return f0\n",
    "\n",
    "# Load original sampling rate\n",
    "inter_sr = librosa.get_samplerate(df['file-name'][35])\n",
    "x, sr = librosa.load(df['file-name'][35], sr=inter_sr)\n",
    "intermittent = x[df.start[35]:df.end[35]]\n",
    "# Filter the syllable according to Güttinger\n",
    "interdenoised = filtering(intermittent)\n",
    "\n",
    "moments(f0(interfiltered, inter_sr))"
   ]
  },
  {
   "cell_type": "markdown",
   "metadata": {},
   "source": [
    "**Harmonic to Noise Ratio (HNR)**"
   ]
  },
  {
   "cell_type": "code",
   "execution_count": 20,
   "metadata": {},
   "outputs": [
    {
     "data": {
      "text/plain": [
       "(-5.0575214575552145, 2.4398252738475463)"
      ]
     },
     "execution_count": 20,
     "metadata": {},
     "output_type": "execute_result"
    }
   ],
   "source": [
    "def HNR(signal, frame_length=512, hop_length=256):\n",
    "    # Original code from https://github.com/joachimpoutaraud/low-level-descriptors    \n",
    "    padding = [(0, 0) for _ in range(signal.ndim)]\n",
    "    padding[-1] = (int(frame_length // 2), int(frame_length // 2))\n",
    "    signal = np.pad(signal, padding, mode=\"edge\")\n",
    "\n",
    "    frames = librosa.util.frame(signal, frame_length=frame_length, hop_length=hop_length)\n",
    "    hnr = []\n",
    "    for i in frames:\n",
    "        # Return maximum absolute value of the frame array\n",
    "        i = i - i.mean()\n",
    "        amax = np.amax(np.abs(i)) \n",
    "        # Normalize the frame array between -1 and 1\n",
    "        if amax > 0:\n",
    "            i /= amax\n",
    "\n",
    "            # Calculate autocorrelation function (acf) using numpy correlate\n",
    "            acf = np.correlate(i, i, mode='full')\n",
    "            acf = acf[acf.shape[0]//2:] # keep only the positive part\n",
    "\n",
    "            # Find the location of the first autocorrelation's peak indice\n",
    "            diff = np.diff(acf) # calculate autocorrelation's discrete difference\n",
    "            peak_indices = np.where(diff > 0)[0] # return the indices of the peaks (positive discrete difference values)\n",
    "\n",
    "            if peak_indices.shape[0] > 0:\n",
    "                first_peak_indice = peak_indices[0] # return the indice of the first autocorrelation peak\n",
    "                \n",
    "                # Calculate the harmonic to noise ratio (hnr)\n",
    "                T0 = np.argmax(acf[first_peak_indice:]) + first_peak_indice # return the indice of the fundamental period\n",
    "                hnr.append(10.0 * np.log10(acf[T0] / (acf[acf.argmax()] - acf[T0])))\n",
    "                \n",
    "            else:\n",
    "                pass\n",
    "        else:\n",
    "            pass\n",
    "    return hnr\n",
    "\n",
    "moments(HNR(interfiltered))"
   ]
  },
  {
   "cell_type": "markdown",
   "metadata": {},
   "source": [
    "### Extracting audio features\n",
    "Finally, we can process all the audio files and store their time and frequency domain features in a csv file."
   ]
  },
  {
   "cell_type": "code",
   "execution_count": null,
   "metadata": {},
   "outputs": [],
   "source": [
    "# Create new columns for the audio features\n",
    "# MFCCs\n",
    "df['MFCC1'] = None\n",
    "df['MFCC2'] = None\n",
    "df['MFCC3'] = None\n",
    "df['MFCC4'] = None\n",
    "df['MFCC5'] = None\n",
    "df['MFCC6'] = None\n",
    "df['MFCC7'] = None\n",
    "df['MFCC8'] = None\n",
    "df['MFCC9'] = None\n",
    "df['MFCC10'] = None\n",
    "df['MFCC11'] = None\n",
    "df['MFCC12'] = None\n",
    "\n",
    "# TIME DOMAIN FEATURES\n",
    "df['ENm'] = None\n",
    "df['ENv'] = None\n",
    "df['ZCRm'] = None\n",
    "df['ZCRv'] = None\n",
    "# df['EE'] = None\n",
    "\n",
    "# # PPS\n",
    "# df['Peaks'] = None\n",
    "# df['PeaksIntervalMin'] = None\n",
    "# df['PeaksIntervalMax'] = None\n",
    "# df['PeaksIntervalFirst'] = None\n",
    "# df['PeaksIntervalLast'] = None\n",
    "# df['PeaksHeightMin'] = None\n",
    "# df['PeaksMedianRate'] = None \n",
    "\n",
    "# FREQUENCY DOMAIN FEATURES\n",
    "df['SCm'] = None\n",
    "df['SCv'] = None\n",
    "df['SBm'] = None\n",
    "df['SBv'] = None\n",
    "df['SFm'] = None\n",
    "df['SFv'] = None\n",
    "df['SRm'] = None\n",
    "df['SRv'] = None\n",
    "df['SFMm'] = None\n",
    "df['SFMv'] = None\n",
    "# df['SE'] = None\n",
    "\n",
    "# # HARMONIC FEATURES\n",
    "# df['f0m'] = None\n",
    "# df['f0v'] = None\n",
    "# df['HNRm'] = None\n",
    "# df['HNRv'] = None\n",
    "\n",
    "for i in tqdm(range(len(df.index))): \n",
    "\n",
    "    # Load audio file \n",
    "    y, sr = librosa.load(df['file-name'][i], sr=22050)\n",
    "    syllable = y[df.start[i]:df.end[i]]\n",
    "    # Denoise syllable with Daubechies wavelet\n",
    "    filtered = filtering(syllable)\n",
    "\n",
    "    ### MFCCs\n",
    "    mfcc = librosa.feature.mfcc(filtered, n_mfcc=13, n_mels=24, htk=True, n_fft=2048, hop_length=512)\n",
    "    # Remove higher DCT coefficients because they represent fast changes in the filterbank energies and actually degrade ASR performance\n",
    "    mfcc = mfcc[1:] \n",
    "    mfcc = mfcc.mean(axis=1)\n",
    "\n",
    "    df['MFCC1'][i] = mfcc[0]\n",
    "    df['MFCC2'][i] = mfcc[1]\n",
    "    df['MFCC3'][i] = mfcc[2]\n",
    "    df['MFCC4'][i] = mfcc[3]\n",
    "    df['MFCC5'][i] = mfcc[4]\n",
    "    df['MFCC6'][i] = mfcc[5]\n",
    "    df['MFCC7'][i] = mfcc[6]\n",
    "    df['MFCC8'][i] = mfcc[7]\n",
    "    df['MFCC9'][i] = mfcc[8]\n",
    "    df['MFCC10'][i] = mfcc[9]\n",
    "    df['MFCC11'][i] = mfcc[10]\n",
    "    df['MFCC12'][i] = mfcc[11]\n",
    "    \n",
    "    ### TIME DOMAIN FEATURES\n",
    "    energy = np.abs(hilbert(filtered))\n",
    "    EN = moments(energy)\n",
    "    df['ENm'][i] = EN[0]\n",
    "    df['ENv'][i] = EN[1]\n",
    "\n",
    "    zcr = librosa.feature.zero_crossing_rate(filtered, frame_length=512, hop_length=256)[0]\n",
    "    zcr = moments(zcr)\n",
    "    df['ZCRm'][i] = zcr[0]\n",
    "    df['ZCRv'][i] = zcr[1]\n",
    "    \n",
    "#     df['EE'][i] = EE(filtered)\n",
    "\n",
    "#      Compute Pick Peacking Strategy (PPS)\n",
    "#     n_peaks, interval_min, interval_max, interval_first, interval_last, height_min, medianpeaksrate = PPS(filtered, sr=sr)\n",
    "#     df['Peaks'][i] = n_peaks\n",
    "#     df['PeaksIntervalMin'][i] = interval_min\n",
    "#     df['PeaksIntervalMax'][i] = interval_max\n",
    "#     df['PeaksIntervalFirst'][i] = interval_first\n",
    "#     df['PeaksIntervalLast'][i] = interval_last\n",
    "#     df['PeaksHeightMin'][i] = height_min\n",
    "#     df['PeaksMedianRate'][i] = medianpeaksrate \n",
    "\n",
    "    ### FREQUENCY DOMAIN FEATURES\n",
    "    SC = librosa.feature.spectral_centroid(y=filtered, sr=sr, n_fft=2048, hop_length=512)[0]\n",
    "    cent = moments(SC)\n",
    "    df['SCm'][i] = cent[0]\n",
    "    df['SCv'][i] = cent[1] \n",
    "    \n",
    "    SB = librosa.feature.spectral_bandwidth(y=filtered, sr=sr,  n_fft=2048, hop_length=512)[0]\n",
    "    band = moments(SB)\n",
    "    df['SBm'][i] = band[0]\n",
    "    df['SBv'][i] = band[1]\n",
    "\n",
    "    SF = librosa.onset.onset_strength(y=filtered, sr=sr, n_fft=2048, hop_length=512)\n",
    "    flux = moments(SF)\n",
    "    df['SFm'][i] = flux[0]\n",
    "    df['SFv'][i] = flux[1]   \n",
    "    \n",
    "    SR = librosa.feature.spectral_rolloff(y=filtered, sr=sr, n_fft=2048, hop_length=512)[0]\n",
    "    roll = moments(SR)\n",
    "    df['SRm'][i] = roll[0]\n",
    "    df['SRv'][i] = roll[1]\n",
    "\n",
    "    SFM = librosa.feature.spectral_flatness(y=filtered, n_fft=2048, hop_length=512)[0]\n",
    "    flat = moments(SFM)\n",
    "    df['SFMm'][i] = flat[0]\n",
    "    df['SFMv'][i] = flat[1]\n",
    "    \n",
    "#     df['SE'][i] = SE(filtered)\n",
    "\n",
    "#     # HARMONIC FEATURES\n",
    "#     original_sr = librosa.get_samplerate(df['file-name'][i]) # Load original sampling rate\n",
    "#     x, original_sr = librosa.load(df['file-name'][i], sr=original_sr)\n",
    "#     syllable_f0 = x[df.start[i]:df.end[i]]\n",
    "#     # Denoise the syllable \n",
    "#     filtered_f0 = filtering(syllable_f0)\n",
    "\n",
    "#     freq = moments(f0(filtered_f0, original_sr))\n",
    "\n",
    "#     df['f0m'][i] = freq[0]\n",
    "#     df['f0v'][i] = freq[1]\n",
    "\n",
    "#     hnr = moments(HNR(filtered))\n",
    "\n",
    "#     df['HNRm'][i] = hnr[0]\n",
    "#     df['HNRv'][i] = hnr[1]\n",
    "\n",
    "# Updated and save the dataframe\n",
    "df.to_csv('dataset.csv', index=False)"
   ]
  },
  {
   "cell_type": "markdown",
   "metadata": {},
   "source": [
    "Load the updated `dataset.csv` file and show the extracted features. "
   ]
  },
  {
   "cell_type": "code",
   "execution_count": 22,
   "metadata": {},
   "outputs": [
    {
     "name": "stdout",
     "output_type": "stream",
     "text": [
      "Found 4133 syllables in csv\n"
     ]
    },
    {
     "data": {
      "text/html": [
       "<div>\n",
       "<style scoped>\n",
       "    .dataframe tbody tr th:only-of-type {\n",
       "        vertical-align: middle;\n",
       "    }\n",
       "\n",
       "    .dataframe tbody tr th {\n",
       "        vertical-align: top;\n",
       "    }\n",
       "\n",
       "    .dataframe thead th {\n",
       "        text-align: right;\n",
       "    }\n",
       "</style>\n",
       "<table border=\"1\" class=\"dataframe\">\n",
       "  <thead>\n",
       "    <tr style=\"text-align: right;\">\n",
       "      <th></th>\n",
       "      <th>duration</th>\n",
       "      <th>MFCC1</th>\n",
       "      <th>MFCC2</th>\n",
       "      <th>MFCC3</th>\n",
       "      <th>MFCC4</th>\n",
       "      <th>MFCC5</th>\n",
       "      <th>MFCC6</th>\n",
       "      <th>MFCC7</th>\n",
       "      <th>MFCC8</th>\n",
       "      <th>MFCC9</th>\n",
       "      <th>...</th>\n",
       "      <th>SCm</th>\n",
       "      <th>SCv</th>\n",
       "      <th>SBm</th>\n",
       "      <th>SBv</th>\n",
       "      <th>SFm</th>\n",
       "      <th>SFv</th>\n",
       "      <th>SRm</th>\n",
       "      <th>SRv</th>\n",
       "      <th>SFMm</th>\n",
       "      <th>SFMv</th>\n",
       "    </tr>\n",
       "  </thead>\n",
       "  <tbody>\n",
       "    <tr>\n",
       "      <th>0</th>\n",
       "      <td>0.549</td>\n",
       "      <td>-109.481958</td>\n",
       "      <td>2.474112</td>\n",
       "      <td>48.374942</td>\n",
       "      <td>-20.190026</td>\n",
       "      <td>-21.349509</td>\n",
       "      <td>22.027669</td>\n",
       "      <td>4.836637</td>\n",
       "      <td>-19.319112</td>\n",
       "      <td>10.261311</td>\n",
       "      <td>...</td>\n",
       "      <td>4704.694674</td>\n",
       "      <td>357332.539106</td>\n",
       "      <td>1709.182879</td>\n",
       "      <td>49979.930391</td>\n",
       "      <td>0.888162</td>\n",
       "      <td>1.008821</td>\n",
       "      <td>6320.443726</td>\n",
       "      <td>1.303338e+06</td>\n",
       "      <td>0.002201</td>\n",
       "      <td>0.000019</td>\n",
       "    </tr>\n",
       "    <tr>\n",
       "      <th>1</th>\n",
       "      <td>0.571</td>\n",
       "      <td>-124.321819</td>\n",
       "      <td>-13.316125</td>\n",
       "      <td>55.665256</td>\n",
       "      <td>-7.335846</td>\n",
       "      <td>-24.810362</td>\n",
       "      <td>7.351164</td>\n",
       "      <td>10.126267</td>\n",
       "      <td>-2.886359</td>\n",
       "      <td>-6.360926</td>\n",
       "      <td>...</td>\n",
       "      <td>4894.594990</td>\n",
       "      <td>123823.953408</td>\n",
       "      <td>1903.750012</td>\n",
       "      <td>16588.690002</td>\n",
       "      <td>1.478772</td>\n",
       "      <td>1.929453</td>\n",
       "      <td>6885.457031</td>\n",
       "      <td>4.002580e+05</td>\n",
       "      <td>0.005412</td>\n",
       "      <td>0.000030</td>\n",
       "    </tr>\n",
       "    <tr>\n",
       "      <th>2</th>\n",
       "      <td>0.581</td>\n",
       "      <td>-118.811872</td>\n",
       "      <td>-16.306968</td>\n",
       "      <td>55.360652</td>\n",
       "      <td>-6.264549</td>\n",
       "      <td>-24.322579</td>\n",
       "      <td>6.051968</td>\n",
       "      <td>11.284524</td>\n",
       "      <td>-4.387789</td>\n",
       "      <td>-5.237668</td>\n",
       "      <td>...</td>\n",
       "      <td>4699.412453</td>\n",
       "      <td>190309.299218</td>\n",
       "      <td>1817.679751</td>\n",
       "      <td>27431.162664</td>\n",
       "      <td>1.482830</td>\n",
       "      <td>2.016139</td>\n",
       "      <td>6284.382512</td>\n",
       "      <td>8.548969e+05</td>\n",
       "      <td>0.009392</td>\n",
       "      <td>0.000515</td>\n",
       "    </tr>\n",
       "    <tr>\n",
       "      <th>3</th>\n",
       "      <td>0.562</td>\n",
       "      <td>-123.582189</td>\n",
       "      <td>-13.492028</td>\n",
       "      <td>56.402909</td>\n",
       "      <td>-7.246422</td>\n",
       "      <td>-27.307025</td>\n",
       "      <td>10.241175</td>\n",
       "      <td>9.205721</td>\n",
       "      <td>-2.900979</td>\n",
       "      <td>-6.563202</td>\n",
       "      <td>...</td>\n",
       "      <td>4807.354395</td>\n",
       "      <td>102161.378437</td>\n",
       "      <td>1904.473960</td>\n",
       "      <td>14730.848980</td>\n",
       "      <td>1.487784</td>\n",
       "      <td>2.005177</td>\n",
       "      <td>6751.089844</td>\n",
       "      <td>5.392537e+05</td>\n",
       "      <td>0.004954</td>\n",
       "      <td>0.000042</td>\n",
       "    </tr>\n",
       "    <tr>\n",
       "      <th>4</th>\n",
       "      <td>0.512</td>\n",
       "      <td>-118.616751</td>\n",
       "      <td>-12.580760</td>\n",
       "      <td>54.472028</td>\n",
       "      <td>-7.582635</td>\n",
       "      <td>-26.822244</td>\n",
       "      <td>10.891599</td>\n",
       "      <td>9.429326</td>\n",
       "      <td>-4.431579</td>\n",
       "      <td>-5.880217</td>\n",
       "      <td>...</td>\n",
       "      <td>4798.271899</td>\n",
       "      <td>162268.012722</td>\n",
       "      <td>1917.163729</td>\n",
       "      <td>27450.507078</td>\n",
       "      <td>1.588638</td>\n",
       "      <td>2.743882</td>\n",
       "      <td>6797.470491</td>\n",
       "      <td>9.439857e+05</td>\n",
       "      <td>0.006289</td>\n",
       "      <td>0.000105</td>\n",
       "    </tr>\n",
       "  </tbody>\n",
       "</table>\n",
       "<p>5 rows × 27 columns</p>\n",
       "</div>"
      ],
      "text/plain": [
       "   duration       MFCC1      MFCC2      MFCC3      MFCC4      MFCC5  \\\n",
       "0     0.549 -109.481958   2.474112  48.374942 -20.190026 -21.349509   \n",
       "1     0.571 -124.321819 -13.316125  55.665256  -7.335846 -24.810362   \n",
       "2     0.581 -118.811872 -16.306968  55.360652  -6.264549 -24.322579   \n",
       "3     0.562 -123.582189 -13.492028  56.402909  -7.246422 -27.307025   \n",
       "4     0.512 -118.616751 -12.580760  54.472028  -7.582635 -26.822244   \n",
       "\n",
       "       MFCC6      MFCC7      MFCC8      MFCC9  ...          SCm  \\\n",
       "0  22.027669   4.836637 -19.319112  10.261311  ...  4704.694674   \n",
       "1   7.351164  10.126267  -2.886359  -6.360926  ...  4894.594990   \n",
       "2   6.051968  11.284524  -4.387789  -5.237668  ...  4699.412453   \n",
       "3  10.241175   9.205721  -2.900979  -6.563202  ...  4807.354395   \n",
       "4  10.891599   9.429326  -4.431579  -5.880217  ...  4798.271899   \n",
       "\n",
       "             SCv          SBm           SBv       SFm       SFv          SRm  \\\n",
       "0  357332.539106  1709.182879  49979.930391  0.888162  1.008821  6320.443726   \n",
       "1  123823.953408  1903.750012  16588.690002  1.478772  1.929453  6885.457031   \n",
       "2  190309.299218  1817.679751  27431.162664  1.482830  2.016139  6284.382512   \n",
       "3  102161.378437  1904.473960  14730.848980  1.487784  2.005177  6751.089844   \n",
       "4  162268.012722  1917.163729  27450.507078  1.588638  2.743882  6797.470491   \n",
       "\n",
       "            SRv      SFMm      SFMv  \n",
       "0  1.303338e+06  0.002201  0.000019  \n",
       "1  4.002580e+05  0.005412  0.000030  \n",
       "2  8.548969e+05  0.009392  0.000515  \n",
       "3  5.392537e+05  0.004954  0.000042  \n",
       "4  9.439857e+05  0.006289  0.000105  \n",
       "\n",
       "[5 rows x 27 columns]"
      ]
     },
     "execution_count": 22,
     "metadata": {},
     "output_type": "execute_result"
    }
   ],
   "source": [
    "df = pd.read_csv('dataset.csv')\n",
    "print(f'Found {len(df.index)} syllables in csv')\n",
    "df_features = df.iloc[:, 8:]\n",
    "df_features.head()"
   ]
  }
 ],
 "metadata": {
  "interpreter": {
   "hash": "290984ea298704ef1a6cfce4766586f99f694a90a964c9b3bdd6120f8ca756ca"
  },
  "kernelspec": {
   "display_name": "Python 3",
   "language": "python",
   "name": "python3"
  },
  "language_info": {
   "codemirror_mode": {
    "name": "ipython",
    "version": 3
   },
   "file_extension": ".py",
   "mimetype": "text/x-python",
   "name": "python",
   "nbconvert_exporter": "python",
   "pygments_lexer": "ipython3",
   "version": "3.8.6"
  }
 },
 "nbformat": 4,
 "nbformat_minor": 4
}
